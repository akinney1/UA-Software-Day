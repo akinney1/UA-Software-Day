{
 "cells": [
  {
   "cell_type": "code",
   "execution_count": 21,
   "id": "cellular-headquarters",
   "metadata": {},
   "outputs": [],
   "source": [
    "import multiprocessing as mp\n",
    "import numpy as np\n",
    "import time, os"
   ]
  },
  {
   "cell_type": "code",
   "execution_count": 22,
   "id": "indian-quantity",
   "metadata": {},
   "outputs": [
    {
     "name": "stdout",
     "output_type": "stream",
     "text": [
      "Counted for 15.32947301864624 sec and got 2501292\n",
      "Counted for 1.9073486328125e-06 sec and got 2501292\n"
     ]
    }
   ],
   "source": [
    "def count_5s(a):\n",
    "    count=0\n",
    "    for i in range(a.size):\n",
    "        if a.flat[i] == 5:\n",
    "            count+=1\n",
    "    return count\n",
    "    \n",
    "def main():\n",
    "    n = int(5e3)\n",
    "    A = np.random.randint(0,10,[n,n])\n",
    "    slow=time.time()\n",
    "    slow_count = count_5s(A)\n",
    "    print('Counted for {} sec and got {}'.format((time.time()-slow), slow_count))\n",
    "    \n",
    "    pool = mp.Pool(mp.cpu_count())\n",
    "    fast = time.time()\n",
    "    fast_count = sum(pool.map(count_5s, [A[i,:] for i in range(n)]))\n",
    "        \n",
    "    fast = time.time()\n",
    "\n",
    "    print('Counted for {} sec and got {}'.format((time.time()-fast), fast_count))\n",
    "\n",
    "if __name__=='__main__':\n",
    "    main()"
   ]
  }
 ],
 "metadata": {
  "kernelspec": {
   "display_name": "Python 3",
   "language": "python",
   "name": "python3"
  },
  "language_info": {
   "codemirror_mode": {
    "name": "ipython",
    "version": 3
   },
   "file_extension": ".py",
   "mimetype": "text/x-python",
   "name": "python",
   "nbconvert_exporter": "python",
   "pygments_lexer": "ipython3",
   "version": "3.7.0"
  }
 },
 "nbformat": 4,
 "nbformat_minor": 5
}
